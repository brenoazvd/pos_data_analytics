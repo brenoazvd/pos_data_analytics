{
 "cells": [
  {
   "cell_type": "code",
   "execution_count": null,
   "id": "edd5a77c",
   "metadata": {},
   "outputs": [],
   "source": [
    "pandas\n",
    "numpy\n",
    "seaborn\n",
    "matplotlib"
   ]
  },
  {
   "cell_type": "code",
   "execution_count": 1,
   "id": "bd2a6f17",
   "metadata": {},
   "outputs": [],
   "source": [
    "# Manipulação de dados\n",
    "import pandas as pd\n",
    "import numpy as np\n",
    "\n",
    "# Visualização de dados\n",
    "import seaborn as sns\n",
    "import matplotlib.pyplot as plt\n",
    "import plotly.express as px"
   ]
  },
  {
   "cell_type": "code",
   "execution_count": 12,
   "id": "2416bc6b",
   "metadata": {},
   "outputs": [],
   "source": [
    "df_dengue = pd.read_excel(r'C:\\Users\\00064NDUC-BrenoAzeve\\pos_data_analytics\\primeira_aula\\Base de Dados Dengue.xlsx')\n"
   ]
  },
  {
   "cell_type": "code",
   "execution_count": 13,
   "id": "d6e36f9d",
   "metadata": {},
   "outputs": [
    {
     "name": "stdout",
     "output_type": "stream",
     "text": [
      "                    municipio  uf data_infeccoes  qtd_infeccoes\n",
      "0       ALTA FLORESTA D'OESTE  RO     2013-01-01             34\n",
      "1       ALTA FLORESTA D'OESTE  RO     2013-02-01             44\n",
      "2       ALTA FLORESTA D'OESTE  RO     2013-03-01             15\n",
      "3       ALTA FLORESTA D'OESTE  RO     2013-04-01              4\n",
      "4       ALTA FLORESTA D'OESTE  RO     2013-05-01              3\n",
      "...                       ...  ..            ...            ...\n",
      "728767               BRASILIA  DF     2023-08-01            939\n",
      "728768               BRASILIA  DF     2023-09-01            843\n",
      "728769               BRASILIA  DF     2023-10-01            686\n",
      "728770               BRASILIA  DF     2023-11-01           1300\n",
      "728771               BRASILIA  DF     2023-12-01           5603\n",
      "\n",
      "[728772 rows x 4 columns]\n"
     ]
    }
   ],
   "source": [
    "print(df_dengue)"
   ]
  },
  {
   "cell_type": "code",
   "execution_count": 14,
   "id": "2df08fd2",
   "metadata": {},
   "outputs": [
    {
     "data": {
      "text/html": [
       "<div>\n",
       "<style scoped>\n",
       "    .dataframe tbody tr th:only-of-type {\n",
       "        vertical-align: middle;\n",
       "    }\n",
       "\n",
       "    .dataframe tbody tr th {\n",
       "        vertical-align: top;\n",
       "    }\n",
       "\n",
       "    .dataframe thead th {\n",
       "        text-align: right;\n",
       "    }\n",
       "</style>\n",
       "<table border=\"1\" class=\"dataframe\">\n",
       "  <thead>\n",
       "    <tr style=\"text-align: right;\">\n",
       "      <th></th>\n",
       "      <th>municipio</th>\n",
       "      <th>uf</th>\n",
       "      <th>data_infeccoes</th>\n",
       "      <th>qtd_infeccoes</th>\n",
       "    </tr>\n",
       "  </thead>\n",
       "  <tbody>\n",
       "    <tr>\n",
       "      <th>0</th>\n",
       "      <td>ALTA FLORESTA D'OESTE</td>\n",
       "      <td>RO</td>\n",
       "      <td>2013-01-01</td>\n",
       "      <td>34</td>\n",
       "    </tr>\n",
       "    <tr>\n",
       "      <th>1</th>\n",
       "      <td>ALTA FLORESTA D'OESTE</td>\n",
       "      <td>RO</td>\n",
       "      <td>2013-02-01</td>\n",
       "      <td>44</td>\n",
       "    </tr>\n",
       "    <tr>\n",
       "      <th>2</th>\n",
       "      <td>ALTA FLORESTA D'OESTE</td>\n",
       "      <td>RO</td>\n",
       "      <td>2013-03-01</td>\n",
       "      <td>15</td>\n",
       "    </tr>\n",
       "    <tr>\n",
       "      <th>3</th>\n",
       "      <td>ALTA FLORESTA D'OESTE</td>\n",
       "      <td>RO</td>\n",
       "      <td>2013-04-01</td>\n",
       "      <td>4</td>\n",
       "    </tr>\n",
       "    <tr>\n",
       "      <th>4</th>\n",
       "      <td>ALTA FLORESTA D'OESTE</td>\n",
       "      <td>RO</td>\n",
       "      <td>2013-05-01</td>\n",
       "      <td>3</td>\n",
       "    </tr>\n",
       "  </tbody>\n",
       "</table>\n",
       "</div>"
      ],
      "text/plain": [
       "               municipio  uf data_infeccoes  qtd_infeccoes\n",
       "0  ALTA FLORESTA D'OESTE  RO     2013-01-01             34\n",
       "1  ALTA FLORESTA D'OESTE  RO     2013-02-01             44\n",
       "2  ALTA FLORESTA D'OESTE  RO     2013-03-01             15\n",
       "3  ALTA FLORESTA D'OESTE  RO     2013-04-01              4\n",
       "4  ALTA FLORESTA D'OESTE  RO     2013-05-01              3"
      ]
     },
     "execution_count": 14,
     "metadata": {},
     "output_type": "execute_result"
    }
   ],
   "source": [
    "df_dengue.head()"
   ]
  },
  {
   "cell_type": "code",
   "execution_count": 15,
   "id": "17a666b4",
   "metadata": {},
   "outputs": [
    {
     "data": {
      "text/html": [
       "<div>\n",
       "<style scoped>\n",
       "    .dataframe tbody tr th:only-of-type {\n",
       "        vertical-align: middle;\n",
       "    }\n",
       "\n",
       "    .dataframe tbody tr th {\n",
       "        vertical-align: top;\n",
       "    }\n",
       "\n",
       "    .dataframe thead th {\n",
       "        text-align: right;\n",
       "    }\n",
       "</style>\n",
       "<table border=\"1\" class=\"dataframe\">\n",
       "  <thead>\n",
       "    <tr style=\"text-align: right;\">\n",
       "      <th></th>\n",
       "      <th>municipio</th>\n",
       "      <th>uf</th>\n",
       "      <th>data_infeccoes</th>\n",
       "      <th>qtd_infeccoes</th>\n",
       "    </tr>\n",
       "  </thead>\n",
       "  <tbody>\n",
       "    <tr>\n",
       "      <th>728767</th>\n",
       "      <td>BRASILIA</td>\n",
       "      <td>DF</td>\n",
       "      <td>2023-08-01</td>\n",
       "      <td>939</td>\n",
       "    </tr>\n",
       "    <tr>\n",
       "      <th>728768</th>\n",
       "      <td>BRASILIA</td>\n",
       "      <td>DF</td>\n",
       "      <td>2023-09-01</td>\n",
       "      <td>843</td>\n",
       "    </tr>\n",
       "    <tr>\n",
       "      <th>728769</th>\n",
       "      <td>BRASILIA</td>\n",
       "      <td>DF</td>\n",
       "      <td>2023-10-01</td>\n",
       "      <td>686</td>\n",
       "    </tr>\n",
       "    <tr>\n",
       "      <th>728770</th>\n",
       "      <td>BRASILIA</td>\n",
       "      <td>DF</td>\n",
       "      <td>2023-11-01</td>\n",
       "      <td>1300</td>\n",
       "    </tr>\n",
       "    <tr>\n",
       "      <th>728771</th>\n",
       "      <td>BRASILIA</td>\n",
       "      <td>DF</td>\n",
       "      <td>2023-12-01</td>\n",
       "      <td>5603</td>\n",
       "    </tr>\n",
       "  </tbody>\n",
       "</table>\n",
       "</div>"
      ],
      "text/plain": [
       "       municipio  uf data_infeccoes  qtd_infeccoes\n",
       "728767  BRASILIA  DF     2023-08-01            939\n",
       "728768  BRASILIA  DF     2023-09-01            843\n",
       "728769  BRASILIA  DF     2023-10-01            686\n",
       "728770  BRASILIA  DF     2023-11-01           1300\n",
       "728771  BRASILIA  DF     2023-12-01           5603"
      ]
     },
     "execution_count": 15,
     "metadata": {},
     "output_type": "execute_result"
    }
   ],
   "source": [
    "df_dengue.tail()"
   ]
  },
  {
   "cell_type": "code",
   "execution_count": null,
   "id": "b7c3f85c",
   "metadata": {},
   "outputs": [],
   "source": []
  }
 ],
 "metadata": {
  "kernelspec": {
   "display_name": "Python 3",
   "language": "python",
   "name": "python3"
  },
  "language_info": {
   "codemirror_mode": {
    "name": "ipython",
    "version": 3
   },
   "file_extension": ".py",
   "mimetype": "text/x-python",
   "name": "python",
   "nbconvert_exporter": "python",
   "pygments_lexer": "ipython3",
   "version": "3.13.1"
  }
 },
 "nbformat": 4,
 "nbformat_minor": 5
}
